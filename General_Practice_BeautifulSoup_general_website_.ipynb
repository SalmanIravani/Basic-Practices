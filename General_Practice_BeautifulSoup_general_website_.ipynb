{
  "nbformat": 4,
  "nbformat_minor": 0,
  "metadata": {
    "colab": {
      "provenance": []
    },
    "kernelspec": {
      "name": "python3",
      "display_name": "Python 3"
    },
    "language_info": {
      "name": "python"
    }
  },
  "cells": [
    {
      "cell_type": "markdown",
      "source": [
        "#Using BeautifulSoup and Requests libraries"
      ],
      "metadata": {
        "id": "y4Lodb_XDTIl"
      }
    },
    {
      "cell_type": "code",
      "execution_count": null,
      "metadata": {
        "id": "Xo1dzsBaDPhf"
      },
      "outputs": [],
      "source": [
        "import requests\n",
        "from bs4 import BeautifulSoup\n",
        "\n",
        "# Send a GET request to the website\n",
        "url = 'https://example.com'\n",
        "response = requests.get(url)\n",
        "\n",
        "# Parse the HTML content\n",
        "soup = BeautifulSoup(response.content, 'html.parser')\n",
        "\n",
        "# Extract data\n",
        "titles = soup.find_all('h1')\n",
        "for title in titles:\n",
        "    print(title.get_text())\n"
      ]
    },
    {
      "cell_type": "code",
      "source": [],
      "metadata": {
        "id": "AC3Yc3qDVy5N"
      },
      "execution_count": null,
      "outputs": []
    }
  ]
}