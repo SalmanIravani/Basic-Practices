{
  "nbformat": 4,
  "nbformat_minor": 0,
  "metadata": {
    "colab": {
      "provenance": []
    },
    "kernelspec": {
      "name": "python3",
      "display_name": "Python 3"
    },
    "language_info": {
      "name": "python"
    }
  },
  "cells": [
    {
      "cell_type": "markdown",
      "source": [
        "By default python has the following data type:\n",
        "\n",
        "\n",
        "*   string\n",
        "*   integer\n",
        "*   float\n",
        "*   boolean\n",
        "*   complex\n",
        "\n"
      ],
      "metadata": {
        "id": "R8pATAFdr9bG"
      }
    },
    {
      "cell_type": "markdown",
      "source": [
        "This is Array and Numpy practice\n"
      ],
      "metadata": {
        "id": "jC_QvQwghdhd"
      }
    },
    {
      "cell_type": "code",
      "source": [
        "Car = [\"Toyota\",\"Honda\",\"BMW\", \"Volvo\", \"Ford\", \"Range Rver\"]\n",
        "print(Car)\n",
        "print(type(Car))\n",
        "print(len(Car))"
      ],
      "metadata": {
        "colab": {
          "base_uri": "https://localhost:8080/"
        },
        "id": "s-ldvaK7ho9z",
        "outputId": "5e168625-fa49-4629-c4c5-5a12849675dd"
      },
      "execution_count": null,
      "outputs": [
        {
          "output_type": "stream",
          "name": "stdout",
          "text": [
            "['Toyota', 'Honda', 'BMW', 'Volvo', 'Ford', 'Range Rver']\n",
            "<class 'list'>\n",
            "6\n"
          ]
        }
      ]
    },
    {
      "cell_type": "code",
      "source": [
        "for i in Car:\n",
        "    print(i)"
      ],
      "metadata": {
        "colab": {
          "base_uri": "https://localhost:8080/"
        },
        "id": "ah-Y68zaiIHO",
        "outputId": "5e4ca1b7-7557-464f-98f3-539f3f0cb97d"
      },
      "execution_count": null,
      "outputs": [
        {
          "output_type": "stream",
          "name": "stdout",
          "text": [
            "Toyota\n",
            "Honda\n",
            "BMW\n",
            "Volvo\n",
            "Ford\n",
            "Range Rver\n"
          ]
        }
      ]
    },
    {
      "cell_type": "code",
      "source": [
        "x = Car[2:6]\n",
        "print(x)"
      ],
      "metadata": {
        "colab": {
          "base_uri": "https://localhost:8080/"
        },
        "id": "DOhFZck0iJmG",
        "outputId": "64cce0cf-d025-45c4-96a8-a7561d17ccf8"
      },
      "execution_count": null,
      "outputs": [
        {
          "output_type": "stream",
          "name": "stdout",
          "text": [
            "['BMW', 'Volvo', 'Ford', 'Range Rver']\n"
          ]
        }
      ]
    },
    {
      "cell_type": "code",
      "source": [
        "Car.append(\"Nissan\")\n",
        "print(Car)"
      ],
      "metadata": {
        "colab": {
          "base_uri": "https://localhost:8080/"
        },
        "id": "iUrpYPWNiJ-K",
        "outputId": "88332e4c-727e-441c-c6ac-bfd893758325"
      },
      "execution_count": null,
      "outputs": [
        {
          "output_type": "stream",
          "name": "stdout",
          "text": [
            "['Toyota', 'Honda', 'BMW', 'Volvo', 'Ford', 'Range Rver', 'Nissan']\n"
          ]
        }
      ]
    },
    {
      "cell_type": "code",
      "source": [
        "Car.remove(\"Honda\")\n",
        "print(Car)"
      ],
      "metadata": {
        "colab": {
          "base_uri": "https://localhost:8080/"
        },
        "id": "WfPxS7imj07G",
        "outputId": "813099b9-74b1-4f02-aa75-a29a248e0a97"
      },
      "execution_count": null,
      "outputs": [
        {
          "output_type": "stream",
          "name": "stdout",
          "text": [
            "['Toyota', 'BMW', 'Volvo', 'Ford', 'Range Rver', 'Nissan']\n"
          ]
        }
      ]
    },
    {
      "cell_type": "markdown",
      "source": [
        "Instead of *remove* we can use *pop(number)* and give the number for the element we want to remove"
      ],
      "metadata": {
        "id": "mcA4dNryn1Ae"
      }
    },
    {
      "cell_type": "code",
      "source": [
        "\n"
      ],
      "metadata": {
        "id": "46tmT2oNnsQN"
      },
      "execution_count": null,
      "outputs": []
    },
    {
      "cell_type": "code",
      "source": [],
      "metadata": {
        "id": "ESKVDMXxj1Wq"
      },
      "execution_count": null,
      "outputs": []
    },
    {
      "cell_type": "code",
      "execution_count": null,
      "metadata": {
        "id": "gGNbnUruizFh"
      },
      "outputs": [],
      "source": [
        "import numpy as np"
      ]
    },
    {
      "cell_type": "code",
      "source": [
        "arr = np.array([1,2,3,4,5])\n",
        "print(arr)\n",
        "print(type(arr))\n",
        "print (len(arr))"
      ],
      "metadata": {
        "colab": {
          "base_uri": "https://localhost:8080/"
        },
        "id": "O-xQXT6Tj_hE",
        "outputId": "5b6a73dc-b424-4b11-9a1a-7a6da5b09123"
      },
      "execution_count": null,
      "outputs": [
        {
          "output_type": "stream",
          "name": "stdout",
          "text": [
            "[1 2 3 4 5]\n",
            "<class 'numpy.ndarray'>\n",
            "5\n"
          ]
        }
      ]
    },
    {
      "cell_type": "code",
      "source": [
        "print (arr[0])\n",
        "print (arr[1])\n",
        "print (arr[2])\n",
        "print (arr[3])\n",
        "print (arr[4])"
      ],
      "metadata": {
        "colab": {
          "base_uri": "https://localhost:8080/"
        },
        "id": "HJEM_1Lnp60M",
        "outputId": "100a2134-3c40-44e7-cb66-e0172af37d85"
      },
      "execution_count": null,
      "outputs": [
        {
          "output_type": "stream",
          "name": "stdout",
          "text": [
            "1\n",
            "2\n",
            "3\n",
            "4\n",
            "5\n"
          ]
        }
      ]
    },
    {
      "cell_type": "code",
      "source": [
        "print (arr[2]+ arr[3])"
      ],
      "metadata": {
        "colab": {
          "base_uri": "https://localhost:8080/"
        },
        "id": "ByFgWsrjqK9S",
        "outputId": "2bc00ac2-e05e-4f59-b960-5b3b99bb4af2"
      },
      "execution_count": null,
      "outputs": [
        {
          "output_type": "stream",
          "name": "stdout",
          "text": [
            "7\n"
          ]
        }
      ]
    },
    {
      "cell_type": "code",
      "source": [
        "print (np.__version__)"
      ],
      "metadata": {
        "colab": {
          "base_uri": "https://localhost:8080/"
        },
        "id": "8YLRh8CGkKnv",
        "outputId": "495c9343-41ea-4309-80f0-98498a2a1f79"
      },
      "execution_count": null,
      "outputs": [
        {
          "output_type": "stream",
          "name": "stdout",
          "text": [
            "1.26.4\n"
          ]
        }
      ]
    },
    {
      "cell_type": "code",
      "source": [
        "print (len(arr))"
      ],
      "metadata": {
        "colab": {
          "base_uri": "https://localhost:8080/"
        },
        "id": "kL9uaq9TkUdI",
        "outputId": "bdb37bd5-44e3-426b-dae0-e29cc44a04fb"
      },
      "execution_count": null,
      "outputs": [
        {
          "output_type": "stream",
          "name": "stdout",
          "text": [
            "5\n"
          ]
        }
      ]
    },
    {
      "cell_type": "code",
      "source": [
        "arr2 = np.array([[1,2,3],[4,5,6]])\n",
        "print(arr2)\n",
        "print(type(arr2))\n",
        "print(len(arr2))"
      ],
      "metadata": {
        "colab": {
          "base_uri": "https://localhost:8080/"
        },
        "id": "aT2ALgc3kbDI",
        "outputId": "1ed1c4c3-f90c-4831-efde-c9b05ac26d87"
      },
      "execution_count": null,
      "outputs": [
        {
          "output_type": "stream",
          "name": "stdout",
          "text": [
            "[[1 2 3]\n",
            " [4 5 6]]\n",
            "<class 'numpy.ndarray'>\n",
            "2\n"
          ]
        }
      ]
    },
    {
      "cell_type": "markdown",
      "source": [
        "Calling an element from the second sets"
      ],
      "metadata": {
        "id": "Zxc1HKVDrWLq"
      }
    },
    {
      "cell_type": "code",
      "source": [
        "print ('2nd element on 2nd row ', arr2[1,2])"
      ],
      "metadata": {
        "colab": {
          "base_uri": "https://localhost:8080/"
        },
        "id": "Mdh9HjXYqYfC",
        "outputId": "d08b7d7c-e1c7-447b-e69d-33808e68c9d1"
      },
      "execution_count": null,
      "outputs": [
        {
          "output_type": "stream",
          "name": "stdout",
          "text": [
            "2nd element on 2nd row  6\n"
          ]
        }
      ]
    },
    {
      "cell_type": "code",
      "source": [
        "arr3=np.array([[[1,2,3],[4,5,6]],[[1,2,3],[4,5,6]]])\n",
        "print(arr3)\n",
        "print(type(arr3))\n",
        "print(len(arr3))"
      ],
      "metadata": {
        "colab": {
          "base_uri": "https://localhost:8080/"
        },
        "id": "gk8dgc70lMXC",
        "outputId": "f837a05c-b74c-44ed-c834-826419e91962"
      },
      "execution_count": null,
      "outputs": [
        {
          "output_type": "stream",
          "name": "stdout",
          "text": [
            "[[[1 2 3]\n",
            "  [4 5 6]]\n",
            "\n",
            " [[1 2 3]\n",
            "  [4 5 6]]]\n",
            "<class 'numpy.ndarray'>\n",
            "2\n"
          ]
        }
      ]
    },
    {
      "cell_type": "code",
      "source": [
        "print (arr.dtype)\n",
        "print (arr2.dtype)\n",
        "print (arr3.dtype)"
      ],
      "metadata": {
        "colab": {
          "base_uri": "https://localhost:8080/"
        },
        "id": "qGLWXm8PlPqs",
        "outputId": "f8ac5955-c9a8-4401-f832-ef81e1d7190f"
      },
      "execution_count": null,
      "outputs": [
        {
          "output_type": "stream",
          "name": "stdout",
          "text": [
            "int64\n",
            "int64\n",
            "int64\n"
          ]
        }
      ]
    },
    {
      "cell_type": "code",
      "source": [
        "arr4=np.array(['apple','banana','cherry'])\n",
        "print(arr4)\n",
        "print(type(arr4))\n",
        "print(len(arr4))\n",
        "print (arr4.dtype)"
      ],
      "metadata": {
        "colab": {
          "base_uri": "https://localhost:8080/"
        },
        "id": "ymhN_PaPs9Cb",
        "outputId": "52784aab-6ac6-4ef5-8e21-81e76660b7bf"
      },
      "execution_count": null,
      "outputs": [
        {
          "output_type": "stream",
          "name": "stdout",
          "text": [
            "['apple' 'banana' 'cherry']\n",
            "<class 'numpy.ndarray'>\n",
            "3\n",
            "<U6\n"
          ]
        }
      ]
    },
    {
      "cell_type": "code",
      "source": [
        "#Numpy Random Number"
      ],
      "metadata": {
        "id": "l9Mssv94tQUW"
      },
      "execution_count": null,
      "outputs": []
    },
    {
      "cell_type": "code",
      "source": [
        "from numpy import random\n",
        "x=random.randint(100) #generating a random number up tp 100. Everytime the number is goinf to be different.\n",
        "print(x)"
      ],
      "metadata": {
        "colab": {
          "base_uri": "https://localhost:8080/"
        },
        "id": "GOLE8CNvtt82",
        "outputId": "52db9da8-b3f6-4df3-82af-10af0efc7332"
      },
      "execution_count": null,
      "outputs": [
        {
          "output_type": "stream",
          "name": "stdout",
          "text": [
            "95\n"
          ]
        }
      ]
    },
    {
      "cell_type": "code",
      "source": [
        "x1=random.rand() #generating a random number between 0 and 1. Everytime the number is goinf to be different.\n",
        "print(x1)"
      ],
      "metadata": {
        "colab": {
          "base_uri": "https://localhost:8080/"
        },
        "id": "3KcKFBV9uIPR",
        "outputId": "5d2b19e5-564b-492a-bf2a-4319cdaa48cc"
      },
      "execution_count": null,
      "outputs": [
        {
          "output_type": "stream",
          "name": "stdout",
          "text": [
            "0.7883808335537071\n"
          ]
        }
      ]
    },
    {
      "cell_type": "code",
      "source": [
        "#generating random array in NumPy\n",
        "x_array=random.randint(100,size=(5))\n",
        "print(x_array)"
      ],
      "metadata": {
        "colab": {
          "base_uri": "https://localhost:8080/"
        },
        "id": "fGuZAuTO2kAB",
        "outputId": "a6e8e88f-43ec-4709-eddd-d4fc0d1d787e"
      },
      "execution_count": null,
      "outputs": [
        {
          "output_type": "stream",
          "name": "stdout",
          "text": [
            "[78  2 55 89 86]\n"
          ]
        }
      ]
    },
    {
      "cell_type": "code",
      "source": [
        "# random 2d arraye\n",
        "x_array2=random.randint(100,size=(3,5))\n",
        "print(x_array2)"
      ],
      "metadata": {
        "colab": {
          "base_uri": "https://localhost:8080/"
        },
        "id": "h2uuw3HS24eE",
        "outputId": "27ee029e-d7b3-40d4-df9f-d0dac8e81832"
      },
      "execution_count": null,
      "outputs": [
        {
          "output_type": "stream",
          "name": "stdout",
          "text": [
            "[[32 31 28 83 79]\n",
            " [69 74 99 91 23]\n",
            " [19 93  2 93 96]]\n"
          ]
        }
      ]
    },
    {
      "cell_type": "code",
      "source": [
        "# random float array\n",
        "x_array3=random.rand(5)\n",
        "print(x_array3)"
      ],
      "metadata": {
        "colab": {
          "base_uri": "https://localhost:8080/"
        },
        "id": "Y0Iq_ixQ3FK1",
        "outputId": "63fb0722-107b-4ffb-fbd7-21fddd21212c"
      },
      "execution_count": null,
      "outputs": [
        {
          "output_type": "stream",
          "name": "stdout",
          "text": [
            "[0.14322007 0.09837345 0.88143686 0.86318174 0.35692922]\n"
          ]
        }
      ]
    },
    {
      "cell_type": "code",
      "source": [
        "x_array4=random.rand(3,5)\n",
        "print(x_array4)"
      ],
      "metadata": {
        "colab": {
          "base_uri": "https://localhost:8080/"
        },
        "id": "KwqIAb9w3XIf",
        "outputId": "6b94c3e4-94ff-4810-923e-c51710924ff2"
      },
      "execution_count": null,
      "outputs": [
        {
          "output_type": "stream",
          "name": "stdout",
          "text": [
            "[[0.48581883 0.3797403  0.39761271 0.82479917 0.69191895]\n",
            " [0.71656228 0.02752969 0.09645094 0.63646529 0.97429321]\n",
            " [0.95184575 0.46156741 0.98438367 0.03281349 0.68885255]]\n"
          ]
        }
      ]
    },
    {
      "cell_type": "code",
      "source": [
        "#random array using choice and size\n",
        "x_array5=random.choice([3,5,7,9], size=(3,5))\n",
        "print(x_array5)"
      ],
      "metadata": {
        "colab": {
          "base_uri": "https://localhost:8080/"
        },
        "id": "3bcapkRl3m9p",
        "outputId": "5ad7e7a8-0bf7-4abd-c90a-84b293fc1da9"
      },
      "execution_count": null,
      "outputs": [
        {
          "output_type": "stream",
          "name": "stdout",
          "text": [
            "[[7 3 9 9 5]\n",
            " [5 3 9 5 7]\n",
            " [9 3 9 3 7]]\n"
          ]
        }
      ]
    },
    {
      "cell_type": "markdown",
      "source": [
        "**Data Distribution**"
      ],
      "metadata": {
        "id": "jWsgqmmrGh5E"
      }
    },
    {
      "cell_type": "code",
      "source": [
        "#The random module returns randomly generated data distribution\n",
        "#The choice() allows us to specify the probability for each value. The some of probability  numbers should be 1.\n",
        "import numpy as np\n",
        "from numpy import random\n",
        "x=random.choice([3,5,7,9], p=[0.1,0.3,0.5,0.1], size=(100))\n",
        "print(x)\n"
      ],
      "metadata": {
        "id": "uqKlA6bG4D6l",
        "colab": {
          "base_uri": "https://localhost:8080/"
        },
        "outputId": "f75db0e4-e20b-490c-875a-a60ecd74a6a3"
      },
      "execution_count": null,
      "outputs": [
        {
          "output_type": "stream",
          "name": "stdout",
          "text": [
            "[5 9 3 7 5 7 7 7 3 9 7 7 5 7 7 5 7 7 7 7 5 5 7 7 5 5 7 7 3 5 7 7 7 5 5 9 7\n",
            " 3 5 5 3 7 7 7 7 7 5 7 7 7 7 7 7 7 5 7 7 7 5 7 3 7 9 7 7 5 9 7 7 9 5 5 7 7\n",
            " 7 7 9 7 9 7 3 7 5 7 7 9 7 7 7 3 9 7 9 7 7 7 7 9 9 7]\n"
          ]
        }
      ]
    },
    {
      "cell_type": "code",
      "source": [
        "from numpy import random\n",
        "x=random.choice([3,5,7,9], p=[0.1,0.3,0.5,0.1], size=(3,5))\n",
        "print(x)"
      ],
      "metadata": {
        "colab": {
          "base_uri": "https://localhost:8080/"
        },
        "id": "FGWzR5XzHDX_",
        "outputId": "caf8bde7-1917-41b9-d14c-af0d323de83a"
      },
      "execution_count": null,
      "outputs": [
        {
          "output_type": "stream",
          "name": "stdout",
          "text": [
            "[[7 7 7 3 3]\n",
            " [5 5 5 7 5]\n",
            " [5 7 5 5 7]]\n"
          ]
        }
      ]
    },
    {
      "cell_type": "markdown",
      "source": [
        "**Random Permutation**"
      ],
      "metadata": {
        "id": "gAuId-IfIswB"
      }
    },
    {
      "cell_type": "code",
      "source": [
        "#random module provides two methods for permutation: shuffle() and premutation\n",
        "\n",
        "from numpy import random\n",
        "import numpy as np\n",
        "arr = np.array([1,2,3,4,5])\n",
        "random.shuffle(arr) #shuffle makes change to the original array\n",
        "print(arr)"
      ],
      "metadata": {
        "colab": {
          "base_uri": "https://localhost:8080/"
        },
        "id": "N02wpyQvIljv",
        "outputId": "058108ce-c2fe-4497-e1a4-ea91bcf35c06"
      },
      "execution_count": null,
      "outputs": [
        {
          "output_type": "stream",
          "name": "stdout",
          "text": [
            "[1 3 4 2 5]\n"
          ]
        }
      ]
    },
    {
      "cell_type": "code",
      "source": [
        "#permutation of array\n",
        "from numpy import random\n",
        "import numpy as np\n",
        "\n",
        "arr = np.array([1,2,3,4,5])\n",
        "print(random.permutation(arr)) #permutation returns a re-arranged array and leav the original array unchanged"
      ],
      "metadata": {
        "colab": {
          "base_uri": "https://localhost:8080/"
        },
        "id": "aByfrV6GMs7W",
        "outputId": "44434b9a-2537-482f-e395-58ab920059b0"
      },
      "execution_count": null,
      "outputs": [
        {
          "output_type": "stream",
          "name": "stdout",
          "text": [
            "[2 5 3 4 1]\n"
          ]
        }
      ]
    },
    {
      "cell_type": "markdown",
      "source": [
        "**seaborn**"
      ],
      "metadata": {
        "id": "vV-E5XCsNykP"
      }
    },
    {
      "cell_type": "code",
      "source": [
        "#visualizing distribution with Seaborn\n",
        "#Seaborn is a library that uses Matplotlin underneath and used to visualized random distributions.\n",
        "import matplotlib.pyplot as plt\n",
        "import seaborn as sns"
      ],
      "metadata": {
        "id": "OTSOzGG2Nan2"
      },
      "execution_count": null,
      "outputs": []
    },
    {
      "cell_type": "code",
      "source": [
        "sns.distplot ([0,1,2,3,4,5])\n",
        "plt.show()"
      ],
      "metadata": {
        "colab": {
          "base_uri": "https://localhost:8080/",
          "height": 621
        },
        "id": "fUQpExBIOdXY",
        "outputId": "3b635881-3535-440c-f517-25f60f9e007f"
      },
      "execution_count": null,
      "outputs": [
        {
          "output_type": "stream",
          "name": "stderr",
          "text": [
            "<ipython-input-18-399b31720af0>:1: UserWarning: \n",
            "\n",
            "`distplot` is a deprecated function and will be removed in seaborn v0.14.0.\n",
            "\n",
            "Please adapt your code to use either `displot` (a figure-level function with\n",
            "similar flexibility) or `histplot` (an axes-level function for histograms).\n",
            "\n",
            "For a guide to updating your code to use the new functions, please see\n",
            "https://gist.github.com/mwaskom/de44147ed2974457ad6372750bbe5751\n",
            "\n",
            "  sns.distplot ([0,1,2,3,4,5])\n"
          ]
        },
        {
          "output_type": "display_data",
          "data": {
            "text/plain": [
              "<Figure size 640x480 with 1 Axes>"
            ],
            "image/png": "[encoded data removed]"
          },
          "metadata": {}
        }
      ]
    },
    {
      "cell_type": "code",
      "source": [
        "import matplotlib.pyplot as plt\n",
        "import seaborn as sns\n",
        "sns.distplot ([0,1,2,3,4,5], hist=False)\n",
        "plt.show()"
      ],
      "metadata": {
        "colab": {
          "base_uri": "https://localhost:8080/",
          "height": 621
        },
        "id": "uO2BqOmhOm_w",
        "outputId": "4839aaf4-ad8a-4a54-8829-9b07974ed0bc"
      },
      "execution_count": null,
      "outputs": [
        {
          "output_type": "stream",
          "name": "stderr",
          "text": [
            "<ipython-input-21-867dd8494157>:3: UserWarning: \n",
            "\n",
            "`distplot` is a deprecated function and will be removed in seaborn v0.14.0.\n",
            "\n",
            "Please adapt your code to use either `displot` (a figure-level function with\n",
            "similar flexibility) or `kdeplot` (an axes-level function for kernel density plots).\n",
            "\n",
            "For a guide to updating your code to use the new functions, please see\n",
            "https://gist.github.com/mwaskom/de44147ed2974457ad6372750bbe5751\n",
            "\n",
            "  sns.distplot ([0,1,2,3,4,5], hist=False)\n"
          ]
        },
        {
          "output_type": "display_data",
          "data": {
            "text/plain": [
              "<Figure size 640x480 with 1 Axes>"
            ],
            "image/png": "[encoded data removed]"
          },
          "metadata": {}
        }
      ]
    },
    {
      "cell_type": "code",
      "source": [],
      "metadata": {
        "id": "c3G0_JamSCMm"
      },
      "execution_count": null,
      "outputs": []
    },
    {
      "cell_type": "code",
      "source": [
        "import matplotlib.pyplot as plt\n",
        "import seaborn as sns\n",
        "sns.kdeplot ([0,1,2,3,4,5])\n",
        "plt.show()"
      ],
      "metadata": {
        "colab": {
          "base_uri": "https://localhost:8080/",
          "height": 430
        },
        "outputId": "b94516cd-152b-4a80-f6d1-4bc79f117afd",
        "id": "fACIygFzUF0S"
      },
      "execution_count": null,
      "outputs": [
        {
          "output_type": "display_data",
          "data": {
            "text/plain": [
              "<Figure size 640x480 with 1 Axes>"
            ],
            "image/png": "[encoded data removed]"
          },
          "metadata": {}
        }
      ]
    },
    {
      "cell_type": "code",
      "source": [],
      "metadata": {
        "id": "qUDdpgO8ULtF"
      },
      "execution_count": null,
      "outputs": []
    },
    {
      "cell_type": "code",
      "source": [
        "import matplotlib.pyplot as plt\n",
        "import seaborn as sns\n",
        "sns.histplot ([0,1,2,3,4,5])\n",
        "plt.show()"
      ],
      "metadata": {
        "colab": {
          "base_uri": "https://localhost:8080/",
          "height": 430
        },
        "outputId": "697471d5-597c-4ef1-dd8d-055bff4206c9",
        "id": "qBEJPMagUzeY"
      },
      "execution_count": null,
      "outputs": [
        {
          "output_type": "display_data",
          "data": {
            "text/plain": [
              "<Figure size 640x480 with 1 Axes>"
            ],
            "image/png": "[encoded data removed]"
          },
          "metadata": {}
        }
      ]
    },
    {
      "cell_type": "markdown",
      "source": [
        "**Normal Distribution** also known as **Guassian Distribution**"
      ],
      "metadata": {
        "id": "vqXl52AFVOW8"
      }
    },
    {
      "cell_type": "code",
      "source": [
        "# The random.normal() get a Normal Dist:\n",
        "# 3 parameters: loc, scale, and size\n",
        "\n",
        "from numpy import random\n",
        "x=random.normal(size=(2,3)) # distribution of size 2x3\n",
        "print(x)"
      ],
      "metadata": {
        "colab": {
          "base_uri": "https://localhost:8080/"
        },
        "id": "wNNhYNIpU097",
        "outputId": "6a786c8a-a446-4039-b27f-d503345e05f2"
      },
      "execution_count": null,
      "outputs": [
        {
          "output_type": "stream",
          "name": "stdout",
          "text": [
            "[[ 1.3339106  -0.26832896  0.30711231]\n",
            " [-0.15668822  0.60761613 -0.10500686]]\n"
          ]
        }
      ]
    },
    {
      "cell_type": "code",
      "source": [
        "from numpy import random\n",
        "x = random.normal(loc=1, scale=2, size=(2,3))\n",
        "print (x)"
      ],
      "metadata": {
        "colab": {
          "base_uri": "https://localhost:8080/"
        },
        "id": "iD1PtbvdVzvB",
        "outputId": "b0e6d3ea-115c-4ab5-be3e-1e1034c88792"
      },
      "execution_count": null,
      "outputs": [
        {
          "output_type": "stream",
          "name": "stdout",
          "text": [
            "[[ 2.79478391 -1.46345199  0.22673175]\n",
            " [ 2.73216384  4.32783371  3.60338383]]\n"
          ]
        }
      ]
    },
    {
      "cell_type": "code",
      "source": [
        "from numpy import random\n",
        "import matplotlib.pyplot as plt\n",
        "import seaborn as sns\n",
        "sns.kdeplot(random.normal(size=1000))\n",
        "plt.show()"
      ],
      "metadata": {
        "colab": {
          "base_uri": "https://localhost:8080/",
          "height": 430
        },
        "id": "iAJPuermWYI7",
        "outputId": "d0e926b3-7113-4e7c-d548-b17958bb63a8"
      },
      "execution_count": null,
      "outputs": [
        {
          "output_type": "display_data",
          "data": {
            "text/plain": [
              "<Figure size 640x480 with 1 Axes>"
            ],
            "image/png": "[encoded data removed]"
          },
          "metadata": {}
        }
      ]
    },
    {
      "cell_type": "markdown",
      "source": [
        "**Binomial Distribution**"
      ],
      "metadata": {
        "id": "kbM754nfbmLz"
      }
    },
    {
      "cell_type": "markdown",
      "source": [
        "Describes the outcome of a binary scenarion, e.g. tossing a coin."
      ],
      "metadata": {
        "id": "ZjshaafHbr9a"
      }
    },
    {
      "cell_type": "markdown",
      "source": [
        "Three parameters:\n",
        "\n",
        "*   n - number of trials\n",
        "*   p - probability of occurence of each trial (coin has 0.5 each)\n",
        "*   size - the shape of the returned array\n",
        "\n"
      ],
      "metadata": {
        "id": "LpbeviNOb3JJ"
      }
    },
    {
      "cell_type": "markdown",
      "source": [
        "Discrete Distribution:\n",
        "* distribution is defined at seperate set of events, e.g. a coin tos' result is discrete compared to height of people"
      ],
      "metadata": {
        "id": "KEaPMGZNd-o7"
      }
    },
    {
      "cell_type": "code",
      "source": [
        "from numpy import random\n",
        "x=random.binomial(n=10, p=0.5, size=10)\n",
        "print(x)\n"
      ],
      "metadata": {
        "colab": {
          "base_uri": "https://localhost:8080/"
        },
        "id": "dcFOvToYW8pi",
        "outputId": "bc27d9ff-c9e6-4560-9828-b3ea574fe021"
      },
      "execution_count": null,
      "outputs": [
        {
          "output_type": "stream",
          "name": "stdout",
          "text": [
            "[5 7 4 7 4 6 7 4 4 4]\n"
          ]
        }
      ]
    },
    {
      "cell_type": "code",
      "source": [
        "#visiualising Binomial Dist\n",
        "\n",
        "from numpy import random\n",
        "import matplotlib.pyplot as plt\n",
        "import seaborn as sns\n",
        "sns.distplot(random.binomial(n=10, p=0.5, size=1000), hist=True, kde=False)\n",
        "plt.show()"
      ],
      "metadata": {
        "colab": {
          "base_uri": "https://localhost:8080/",
          "height": 621
        },
        "id": "a7UZbc6Fe1st",
        "outputId": "99a9f47a-f324-4aef-b5b3-b41ee284dccf"
      },
      "execution_count": null,
      "outputs": [
        {
          "output_type": "stream",
          "name": "stderr",
          "text": [
            "<ipython-input-36-21ec3b3420c2>:6: UserWarning: \n",
            "\n",
            "`distplot` is a deprecated function and will be removed in seaborn v0.14.0.\n",
            "\n",
            "Please adapt your code to use either `displot` (a figure-level function with\n",
            "similar flexibility) or `histplot` (an axes-level function for histograms).\n",
            "\n",
            "For a guide to updating your code to use the new functions, please see\n",
            "https://gist.github.com/mwaskom/de44147ed2974457ad6372750bbe5751\n",
            "\n",
            "  sns.distplot(random.binomial(n=10, p=0.5, size=1000), hist=True, kde=False)\n"
          ]
        },
        {
          "output_type": "display_data",
          "data": {
            "text/plain": [
              "<Figure size 640x480 with 1 Axes>"
            ],
            "image/png": "[encoded data removed]"
          },
          "metadata": {}
        }
      ]
    },
    {
      "cell_type": "code",
      "source": [
        "from numpy import random\n",
        "import matplotlib.pyplot as plt\n",
        "import seaborn as sns\n",
        "sns.histplot(random.binomial(n=10, p=0.5, size=1000), kde=False)\n",
        "plt.show()"
      ],
      "metadata": {
        "colab": {
          "base_uri": "https://localhost:8080/",
          "height": 430
        },
        "id": "GAzR35QOfbW6",
        "outputId": "f596bfc9-06a2-461e-b0b3-b3fe022352af"
      },
      "execution_count": null,
      "outputs": [
        {
          "output_type": "display_data",
          "data": {
            "text/plain": [
              "<Figure size 640x480 with 1 Axes>"
            ],
            "image/png": "[encoded data removed]"
          },
          "metadata": {}
        }
      ]
    },
    {
      "cell_type": "code",
      "source": [
        "from numpy import random\n",
        "import matplotlib.pyplot as plt\n",
        "import seaborn as sns\n",
        "sns.histplot(random.binomial(n=10, p=0.5, size=1000))\n",
        "plt.show()"
      ],
      "metadata": {
        "colab": {
          "base_uri": "https://localhost:8080/",
          "height": 430
        },
        "id": "2uUyfn2bf-11",
        "outputId": "ff6ee462-4d0b-4729-e498-6856449357e3"
      },
      "execution_count": null,
      "outputs": [
        {
          "output_type": "display_data",
          "data": {
            "text/plain": [
              "<Figure size 640x480 with 1 Axes>"
            ],
            "image/png": "[encoded data removed]"
          },
          "metadata": {}
        }
      ]
    },
    {
      "cell_type": "markdown",
      "source": [
        "Normal Dist is continous whereas binomila is discrete.\n",
        "* If threre are enough data points it will be quite similar with certain loc and scale"
      ],
      "metadata": {
        "id": "7B7GOE36lMm5"
      }
    },
    {
      "cell_type": "code",
      "source": [
        "from numpy import random\n",
        "import matplotlib.pyplot as plt\n",
        "import seaborn as sns\n",
        "\n",
        "sns.kdeplot(random.normal(loc=50, scale=5, size=1000), label='normal')\n",
        "sns.kdeplot(random.binomial(n=100, p=0.5, size=1000), label='binomial')\n",
        "\n",
        "plt.show()"
      ],
      "metadata": {
        "colab": {
          "base_uri": "https://localhost:8080/",
          "height": 430
        },
        "id": "r5EqoaoMgSkw",
        "outputId": "ea9d6a6b-b6c0-4396-9e4c-683ce9a5a38f"
      },
      "execution_count": null,
      "outputs": [
        {
          "output_type": "display_data",
          "data": {
            "text/plain": [
              "<Figure size 640x480 with 1 Axes>"
            ],
            "image/png": "[encoded data removed]"
          },
          "metadata": {}
        }
      ]
    },
    {
      "cell_type": "code",
      "source": [],
      "metadata": {
        "id": "pw9R0Oozmi1i"
      },
      "execution_count": null,
      "outputs": []
    }
  ]
}