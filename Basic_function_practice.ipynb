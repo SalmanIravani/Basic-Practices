{
  "nbformat": 4,
  "nbformat_minor": 0,
  "metadata": {
    "colab": {
      "provenance": []
    },
    "kernelspec": {
      "name": "python3",
      "display_name": "Python 3"
    },
    "language_info": {
      "name": "python"
    }
  },
  "cells": [
    {
      "cell_type": "code",
      "execution_count": null,
      "metadata": {
        "colab": {
          "base_uri": "https://localhost:8080/"
        },
        "id": "PhUYN4HhwUoZ",
        "outputId": "18237995-7e8e-4e09-d517-efeef5689a5d"
      },
      "outputs": [
        {
          "output_type": "stream",
          "name": "stdout",
          "text": [
            "16\n"
          ]
        }
      ],
      "source": [
        "def salary(hour, per_hour):\n",
        "          if hour > 8:\n",
        "              return 'error! too many hours'\n",
        "\n",
        "          total_income = hour * per_hour\n",
        "          return total_income\n",
        "\n",
        "print (salary(8,2))"
      ]
    },
    {
      "cell_type": "code",
      "source": [
        "def your_salary():\n",
        "            No_hour = (input ('How many hours have you worked: '))\n",
        "            Dol_per_hour = (input ('What is your rate per hour: '))\n",
        "            No_hour = int (No_hour)\n",
        "            Dol_per_hour = int (Dol_per_hour)\n",
        "            if No_hour > 40 :\n",
        "              return 'Error!'\n",
        "\n",
        "            else:\n",
        "              total_salary= No_hour * Dol_per_hour\n",
        "              return total_salary\n",
        "\n",
        "              print (total_salary)\n"
      ],
      "metadata": {
        "id": "ohOnEcolxUT4"
      },
      "execution_count": null,
      "outputs": []
    },
    {
      "cell_type": "code",
      "source": [
        "your_salary()\n"
      ],
      "metadata": {
        "colab": {
          "base_uri": "https://localhost:8080/"
        },
        "id": "HowzfGG61LUw",
        "outputId": "c8f0a696-fa27-4123-b9dd-6f88b2c15b4a"
      },
      "execution_count": null,
      "outputs": [
        {
          "name": "stdout",
          "output_type": "stream",
          "text": [
            "How many hours have you worked: 40\n",
            "What is your rate per hour: 100\n"
          ]
        },
        {
          "output_type": "execute_result",
          "data": {
            "text/plain": [
              "4000"
            ]
          },
          "metadata": {},
          "execution_count": 67
        }
      ]
    },
    {
      "cell_type": "code",
      "source": [
        "def my_function():\n",
        "  print(\"Hello from a function\")\n",
        "\n",
        "my_function()"
      ],
      "metadata": {
        "colab": {
          "base_uri": "https://localhost:8080/"
        },
        "id": "PesW1uWc1weE",
        "outputId": "80559c9a-5ede-4156-9c3c-2f8bef3046fe"
      },
      "execution_count": null,
      "outputs": [
        {
          "output_type": "stream",
          "name": "stdout",
          "text": [
            "Hello from a function\n"
          ]
        }
      ]
    },
    {
      "cell_type": "code",
      "source": [
        "def my_function (fname):\n",
        "    print (fname + \" refsnes\")\n"
      ],
      "metadata": {
        "id": "oVImPva84qX7"
      },
      "execution_count": null,
      "outputs": []
    },
    {
      "cell_type": "code",
      "source": [
        "my_function (\"Salman\")"
      ],
      "metadata": {
        "colab": {
          "base_uri": "https://localhost:8080/"
        },
        "id": "R4whic3R8FZr",
        "outputId": "bb75d3b7-883f-4730-a0d8-03337a317f17"
      },
      "execution_count": null,
      "outputs": [
        {
          "output_type": "stream",
          "name": "stdout",
          "text": [
            "Salman refsnes\n"
          ]
        }
      ]
    },
    {
      "cell_type": "code",
      "source": [
        "my_function (\"Hello\")"
      ],
      "metadata": {
        "colab": {
          "base_uri": "https://localhost:8080/"
        },
        "id": "BqHGk2Tl8Oq5",
        "outputId": "3ae00e1a-fb1c-46ee-c95f-30fcf672d045"
      },
      "execution_count": null,
      "outputs": [
        {
          "output_type": "stream",
          "name": "stdout",
          "text": [
            "Hello refsnes\n"
          ]
        }
      ]
    },
    {
      "cell_type": "code",
      "source": [
        "def country ():\n",
        "      country = input ('Where were you born: ')\n",
        "      print ('You are from ', country)"
      ],
      "metadata": {
        "id": "8SJYPdaw84Y7"
      },
      "execution_count": null,
      "outputs": []
    },
    {
      "cell_type": "code",
      "source": [
        "country()"
      ],
      "metadata": {
        "colab": {
          "base_uri": "https://localhost:8080/"
        },
        "id": "muvomF5PFyG4",
        "outputId": "e664d70d-1fa3-4777-ea8d-3ac42eb6f871"
      },
      "execution_count": null,
      "outputs": [
        {
          "output_type": "stream",
          "name": "stdout",
          "text": [
            "Where were you born: England\n",
            "You are from  England\n"
          ]
        }
      ]
    },
    {
      "cell_type": "code",
      "source": [
        "your_salary()"
      ],
      "metadata": {
        "colab": {
          "base_uri": "https://localhost:8080/"
        },
        "id": "UHELVZVEFz9z",
        "outputId": "4dd04426-ef00-4c60-c493-71c37dfac556"
      },
      "execution_count": null,
      "outputs": [
        {
          "name": "stdout",
          "output_type": "stream",
          "text": [
            "How many hours have you worked: 40\n",
            "What is your rate per hour: 100\n"
          ]
        },
        {
          "output_type": "execute_result",
          "data": {
            "text/plain": [
              "4000"
            ]
          },
          "metadata": {},
          "execution_count": 71
        }
      ]
    },
    {
      "cell_type": "code",
      "source": [
        "country()"
      ],
      "metadata": {
        "colab": {
          "base_uri": "https://localhost:8080/"
        },
        "id": "Zu4ueV9GGE_O",
        "outputId": "d5de4da3-b16b-4b95-c088-f76366e007c8"
      },
      "execution_count": null,
      "outputs": [
        {
          "output_type": "stream",
          "name": "stdout",
          "text": [
            "Where were you born: United Kingdom\n",
            "You are from  United Kingdom\n"
          ]
        }
      ]
    },
    {
      "cell_type": "code",
      "source": [
        "def my_function(food):\n",
        "  for y in food:\n",
        "    print(y)\n",
        "\n",
        "fruits = [\"apple\", \"banana\", \"cherry\"]\n",
        "\n",
        "my_function(fruits)"
      ],
      "metadata": {
        "colab": {
          "base_uri": "https://localhost:8080/"
        },
        "id": "hR0yH2N-GIPt",
        "outputId": "3b80fdfc-80b0-407e-9454-2e8873bc5aa8"
      },
      "execution_count": null,
      "outputs": [
        {
          "output_type": "stream",
          "name": "stdout",
          "text": [
            "apple\n",
            "banana\n",
            "cherry\n"
          ]
        }
      ]
    },
    {
      "cell_type": "code",
      "source": [
        "def tri_recursion(k):\n",
        "  if(k > 0):\n",
        "    result = k + tri_recursion(k - 1)\n",
        "    print(result)\n",
        "  else:\n",
        "    result = 0\n",
        "  return result\n",
        "\n",
        "print(\"\\n\\nRecursion Example Results\")\n",
        "tri_recursion(9)"
      ],
      "metadata": {
        "colab": {
          "base_uri": "https://localhost:8080/"
        },
        "id": "5c36i0JZJ2Mp",
        "outputId": "441b07fa-d47a-4afb-abfa-249dcc62fbad"
      },
      "execution_count": null,
      "outputs": [
        {
          "output_type": "stream",
          "name": "stdout",
          "text": [
            "\n",
            "\n",
            "Recursion Example Results\n",
            "1\n",
            "3\n",
            "6\n",
            "10\n",
            "15\n",
            "21\n",
            "28\n",
            "36\n",
            "45\n"
          ]
        },
        {
          "output_type": "execute_result",
          "data": {
            "text/plain": [
              "45"
            ]
          },
          "metadata": {},
          "execution_count": 75
        }
      ]
    },
    {
      "cell_type": "code",
      "source": [
        "def tri_recursion(k):\n",
        "    if k > 0:\n",
        "        result = k + tri_recursion(k - 1)\n",
        "        print(result)\n",
        "        return result\n",
        "    else:\n",
        "        return 0\n",
        "\n",
        "print(\"\\n\\n\\nRecursion Example Results:\\n\")\n",
        "tri_recursion(9)"
      ],
      "metadata": {
        "colab": {
          "base_uri": "https://localhost:8080/"
        },
        "id": "HOwCnvQKWe01",
        "outputId": "d6beeca3-ac27-4b88-da73-3b4373d7aae5"
      },
      "execution_count": null,
      "outputs": [
        {
          "output_type": "stream",
          "name": "stdout",
          "text": [
            "\n",
            "\n",
            "\n",
            "Recursion Example Results:\n",
            "\n",
            "1\n",
            "3\n",
            "6\n",
            "10\n",
            "15\n",
            "21\n",
            "28\n",
            "36\n",
            "45\n"
          ]
        },
        {
          "output_type": "execute_result",
          "data": {
            "text/plain": [
              "45"
            ]
          },
          "metadata": {},
          "execution_count": 83
        }
      ]
    },
    {
      "cell_type": "code",
      "source": [
        "def tri_recursiontwo():\n",
        "    k = user_input\n",
        "    if k > 0:\n",
        "        result = k + tri_recursiontwo(k - 1)\n",
        "        print(result)\n",
        "        return result\n",
        "    else:\n",
        "        return 0\n",
        "\n",
        "# Ask user for input\n",
        "user_input = input(\"Enter a positive integer: \")\n",
        "\n",
        "# Validate input and call the function\n",
        "try:\n",
        "    number = int(user_input)\n",
        "    if number > 0:\n",
        "        print(\"\\nRecursion Example Results\")\n",
        "        tri_recursion(number)\n",
        "    else:\n",
        "        print(\"Please enter a positive integer greater than 0.\")\n",
        "except ValueError:\n",
        "    print(\"Invalid input. Please enter a valid positive integer.\")"
      ],
      "metadata": {
        "colab": {
          "base_uri": "https://localhost:8080/"
        },
        "id": "ENMSbqrWWrYu",
        "outputId": "37119d78-2de9-45e0-92cf-d6be049f1442"
      },
      "execution_count": null,
      "outputs": [
        {
          "output_type": "stream",
          "name": "stdout",
          "text": [
            "Enter a positive integer: 0\n",
            "Please enter a positive integer greater than 0.\n"
          ]
        }
      ]
    },
    {
      "cell_type": "code",
      "source": [
        "tri_recursiontwo()"
      ],
      "metadata": {
        "colab": {
          "base_uri": "https://localhost:8080/",
          "height": 263
        },
        "id": "z6ASEFelYrHL",
        "outputId": "f2f42645-a9dc-4271-d5ce-3976d7171e40"
      },
      "execution_count": null,
      "outputs": [
        {
          "output_type": "error",
          "ename": "TypeError",
          "evalue": "'>' not supported between instances of 'str' and 'int'",
          "traceback": [
            "\u001b[0;31m---------------------------------------------------------------------------\u001b[0m",
            "\u001b[0;31mTypeError\u001b[0m                                 Traceback (most recent call last)",
            "\u001b[0;32m<ipython-input-93-df312a13e5aa>\u001b[0m in \u001b[0;36m<cell line: 1>\u001b[0;34m()\u001b[0m\n\u001b[0;32m----> 1\u001b[0;31m \u001b[0mtri_recursiontwo\u001b[0m\u001b[0;34m(\u001b[0m\u001b[0;34m)\u001b[0m\u001b[0;34m\u001b[0m\u001b[0;34m\u001b[0m\u001b[0m\n\u001b[0m",
            "\u001b[0;32m<ipython-input-92-eb9b304f9f16>\u001b[0m in \u001b[0;36mtri_recursiontwo\u001b[0;34m()\u001b[0m\n\u001b[1;32m      1\u001b[0m \u001b[0;32mdef\u001b[0m \u001b[0mtri_recursiontwo\u001b[0m\u001b[0;34m(\u001b[0m\u001b[0;34m)\u001b[0m\u001b[0;34m:\u001b[0m\u001b[0;34m\u001b[0m\u001b[0;34m\u001b[0m\u001b[0m\n\u001b[1;32m      2\u001b[0m     \u001b[0mk\u001b[0m \u001b[0;34m=\u001b[0m \u001b[0muser_input\u001b[0m\u001b[0;34m\u001b[0m\u001b[0;34m\u001b[0m\u001b[0m\n\u001b[0;32m----> 3\u001b[0;31m     \u001b[0;32mif\u001b[0m \u001b[0mk\u001b[0m \u001b[0;34m>\u001b[0m \u001b[0;36m0\u001b[0m\u001b[0;34m:\u001b[0m\u001b[0;34m\u001b[0m\u001b[0;34m\u001b[0m\u001b[0m\n\u001b[0m\u001b[1;32m      4\u001b[0m         \u001b[0mresult\u001b[0m \u001b[0;34m=\u001b[0m \u001b[0mk\u001b[0m \u001b[0;34m+\u001b[0m \u001b[0mtri_recursiontwo\u001b[0m\u001b[0;34m(\u001b[0m\u001b[0mk\u001b[0m \u001b[0;34m-\u001b[0m \u001b[0;36m1\u001b[0m\u001b[0;34m)\u001b[0m\u001b[0;34m\u001b[0m\u001b[0;34m\u001b[0m\u001b[0m\n\u001b[1;32m      5\u001b[0m         \u001b[0mprint\u001b[0m\u001b[0;34m(\u001b[0m\u001b[0mresult\u001b[0m\u001b[0;34m)\u001b[0m\u001b[0;34m\u001b[0m\u001b[0;34m\u001b[0m\u001b[0m\n",
            "\u001b[0;31mTypeError\u001b[0m: '>' not supported between instances of 'str' and 'int'"
          ]
        }
      ]
    },
    {
      "cell_type": "code",
      "source": [
        "def calculate_sum(n):\n",
        "    \"\"\"Calculate the sum of numbers from 1 to n recursively.\"\"\"\n",
        "    if n <= 0:\n",
        "        return 0\n",
        "    return n + calculate_sum(n - 1)\n",
        "\n",
        "def print_sum_sequence(n):\n",
        "    \"\"\"Print the sequence of sums from n down to 1.\"\"\"\n",
        "    if n <= 0:\n",
        "        print(\"Please enter a positive integer.\")\n",
        "        return\n",
        "\n",
        "    for i in range(n, 0, -1):\n",
        "        result = calculate_sum(i)\n",
        "        print(f\"Sum from 1 to {i}: {result}\")\n",
        "\n",
        "def run_sum_calculator():\n",
        "    while True:\n",
        "        user_input = input(\"\\nEnter a positive integer (or 'q' to quit): \")\n",
        "\n",
        "        if user_input.lower() == 'q':\n",
        "            print(\"Thank you for using the sum calculator. Goodbye!\")\n",
        "            break\n",
        "\n",
        "        try:\n",
        "            number = int(user_input)\n",
        "            print_sum_sequence(number)\n",
        "        except ValueError:\n",
        "            print(\"Invalid input. Please enter a valid positive integer.\")\n",
        "\n",
        "# Example usage\n",
        "if __name__ == \"__main__\":\n",
        "    print(\"Welcome to the Sum Calculator!\")\n",
        "    run_sum_calculator()"
      ],
      "metadata": {
        "colab": {
          "base_uri": "https://localhost:8080/",
          "height": 530
        },
        "id": "V_H202HiYw9O",
        "outputId": "94f0411c-e70b-4273-a3d7-c2b68bb63ea4"
      },
      "execution_count": null,
      "outputs": [
        {
          "output_type": "stream",
          "name": "stdout",
          "text": [
            "Welcome to the Sum Calculator!\n",
            "\n",
            "Enter a positive integer (or 'q' to quit): 9\n",
            "Sum from 1 to 9: 45\n",
            "Sum from 1 to 8: 36\n",
            "Sum from 1 to 7: 28\n",
            "Sum from 1 to 6: 21\n",
            "Sum from 1 to 5: 15\n",
            "Sum from 1 to 4: 10\n",
            "Sum from 1 to 3: 6\n",
            "Sum from 1 to 2: 3\n",
            "Sum from 1 to 1: 1\n"
          ]
        },
        {
          "output_type": "error",
          "ename": "KeyboardInterrupt",
          "evalue": "Interrupted by user",
          "traceback": [
            "\u001b[0;31m---------------------------------------------------------------------------\u001b[0m",
            "\u001b[0;31mKeyboardInterrupt\u001b[0m                         Traceback (most recent call last)",
            "\u001b[0;32m<ipython-input-95-a6b78d5c47cc>\u001b[0m in \u001b[0;36m<cell line: 32>\u001b[0;34m()\u001b[0m\n\u001b[1;32m     32\u001b[0m \u001b[0;32mif\u001b[0m \u001b[0m__name__\u001b[0m \u001b[0;34m==\u001b[0m \u001b[0;34m\"__main__\"\u001b[0m\u001b[0;34m:\u001b[0m\u001b[0;34m\u001b[0m\u001b[0;34m\u001b[0m\u001b[0m\n\u001b[1;32m     33\u001b[0m     \u001b[0mprint\u001b[0m\u001b[0;34m(\u001b[0m\u001b[0;34m\"Welcome to the Sum Calculator!\"\u001b[0m\u001b[0;34m)\u001b[0m\u001b[0;34m\u001b[0m\u001b[0;34m\u001b[0m\u001b[0m\n\u001b[0;32m---> 34\u001b[0;31m     \u001b[0mrun_sum_calculator\u001b[0m\u001b[0;34m(\u001b[0m\u001b[0;34m)\u001b[0m\u001b[0;34m\u001b[0m\u001b[0;34m\u001b[0m\u001b[0m\n\u001b[0m",
            "\u001b[0;32m<ipython-input-95-a6b78d5c47cc>\u001b[0m in \u001b[0;36mrun_sum_calculator\u001b[0;34m()\u001b[0m\n\u001b[1;32m     17\u001b[0m \u001b[0;32mdef\u001b[0m \u001b[0mrun_sum_calculator\u001b[0m\u001b[0;34m(\u001b[0m\u001b[0;34m)\u001b[0m\u001b[0;34m:\u001b[0m\u001b[0;34m\u001b[0m\u001b[0;34m\u001b[0m\u001b[0m\n\u001b[1;32m     18\u001b[0m     \u001b[0;32mwhile\u001b[0m \u001b[0;32mTrue\u001b[0m\u001b[0;34m:\u001b[0m\u001b[0;34m\u001b[0m\u001b[0;34m\u001b[0m\u001b[0m\n\u001b[0;32m---> 19\u001b[0;31m         \u001b[0muser_input\u001b[0m \u001b[0;34m=\u001b[0m \u001b[0minput\u001b[0m\u001b[0;34m(\u001b[0m\u001b[0;34m\"\\nEnter a positive integer (or 'q' to quit): \"\u001b[0m\u001b[0;34m)\u001b[0m\u001b[0;34m\u001b[0m\u001b[0;34m\u001b[0m\u001b[0m\n\u001b[0m\u001b[1;32m     20\u001b[0m \u001b[0;34m\u001b[0m\u001b[0m\n\u001b[1;32m     21\u001b[0m         \u001b[0;32mif\u001b[0m \u001b[0muser_input\u001b[0m\u001b[0;34m.\u001b[0m\u001b[0mlower\u001b[0m\u001b[0;34m(\u001b[0m\u001b[0;34m)\u001b[0m \u001b[0;34m==\u001b[0m \u001b[0;34m'q'\u001b[0m\u001b[0;34m:\u001b[0m\u001b[0;34m\u001b[0m\u001b[0;34m\u001b[0m\u001b[0m\n",
            "\u001b[0;32m/usr/local/lib/python3.10/dist-packages/ipykernel/kernelbase.py\u001b[0m in \u001b[0;36mraw_input\u001b[0;34m(self, prompt)\u001b[0m\n\u001b[1;32m    849\u001b[0m                 \u001b[0;34m\"raw_input was called, but this frontend does not support input requests.\"\u001b[0m\u001b[0;34m\u001b[0m\u001b[0;34m\u001b[0m\u001b[0m\n\u001b[1;32m    850\u001b[0m             )\n\u001b[0;32m--> 851\u001b[0;31m         return self._input_request(str(prompt),\n\u001b[0m\u001b[1;32m    852\u001b[0m             \u001b[0mself\u001b[0m\u001b[0;34m.\u001b[0m\u001b[0m_parent_ident\u001b[0m\u001b[0;34m,\u001b[0m\u001b[0;34m\u001b[0m\u001b[0;34m\u001b[0m\u001b[0m\n\u001b[1;32m    853\u001b[0m             \u001b[0mself\u001b[0m\u001b[0;34m.\u001b[0m\u001b[0m_parent_header\u001b[0m\u001b[0;34m,\u001b[0m\u001b[0;34m\u001b[0m\u001b[0;34m\u001b[0m\u001b[0m\n",
            "\u001b[0;32m/usr/local/lib/python3.10/dist-packages/ipykernel/kernelbase.py\u001b[0m in \u001b[0;36m_input_request\u001b[0;34m(self, prompt, ident, parent, password)\u001b[0m\n\u001b[1;32m    893\u001b[0m             \u001b[0;32mexcept\u001b[0m \u001b[0mKeyboardInterrupt\u001b[0m\u001b[0;34m:\u001b[0m\u001b[0;34m\u001b[0m\u001b[0;34m\u001b[0m\u001b[0m\n\u001b[1;32m    894\u001b[0m                 \u001b[0;31m# re-raise KeyboardInterrupt, to truncate traceback\u001b[0m\u001b[0;34m\u001b[0m\u001b[0;34m\u001b[0m\u001b[0m\n\u001b[0;32m--> 895\u001b[0;31m                 \u001b[0;32mraise\u001b[0m \u001b[0mKeyboardInterrupt\u001b[0m\u001b[0;34m(\u001b[0m\u001b[0;34m\"Interrupted by user\"\u001b[0m\u001b[0;34m)\u001b[0m \u001b[0;32mfrom\u001b[0m \u001b[0;32mNone\u001b[0m\u001b[0;34m\u001b[0m\u001b[0;34m\u001b[0m\u001b[0m\n\u001b[0m\u001b[1;32m    896\u001b[0m             \u001b[0;32mexcept\u001b[0m \u001b[0mException\u001b[0m \u001b[0;32mas\u001b[0m \u001b[0me\u001b[0m\u001b[0;34m:\u001b[0m\u001b[0;34m\u001b[0m\u001b[0;34m\u001b[0m\u001b[0m\n\u001b[1;32m    897\u001b[0m                 \u001b[0mself\u001b[0m\u001b[0;34m.\u001b[0m\u001b[0mlog\u001b[0m\u001b[0;34m.\u001b[0m\u001b[0mwarning\u001b[0m\u001b[0;34m(\u001b[0m\u001b[0;34m\"Invalid Message:\"\u001b[0m\u001b[0;34m,\u001b[0m \u001b[0mexc_info\u001b[0m\u001b[0;34m=\u001b[0m\u001b[0;32mTrue\u001b[0m\u001b[0;34m)\u001b[0m\u001b[0;34m\u001b[0m\u001b[0;34m\u001b[0m\u001b[0m\n",
            "\u001b[0;31mKeyboardInterrupt\u001b[0m: Interrupted by user"
          ]
        }
      ]
    },
    {
      "cell_type": "code",
      "source": [
        "def calculate_and_print_sums(n):\n",
        "    \"\"\"Calculate and print the sum sequence from n down to 1.\"\"\"\n",
        "    if n <= 0:\n",
        "        print(\"Please enter a positive integer.\")\n",
        "        return\n",
        "\n",
        "    print(f\"\\nSum sequence for {n}:\")\n",
        "    for i in range(n, 0, -1):\n",
        "        result = sum(range(1, i + 1))\n",
        "        print(f\"Sum from 1 to {i}: {result}\")\n",
        "\n",
        "# Example usage\n",
        "if __name__ == \"__main__\":\n",
        "    print(\"Welcome to the Sum Calculator!\")\n",
        "\n",
        "    # First use\n",
        "    user_input = input(\"Enter a positive integer: \")\n",
        "    try:\n",
        "        number = int(user_input)\n",
        "        calculate_and_print_sums(number)\n",
        "    except ValueError:\n",
        "        print(\"Invalid input. Please enter a valid positive integer.\")\n",
        "\n",
        "    print(\"\\nYou can call the function again by using calculate_and_print_sums(n)\")\n"
      ],
      "metadata": {
        "colab": {
          "base_uri": "https://localhost:8080/"
        },
        "id": "sRo7TF83akgH",
        "outputId": "6d529f43-4916-4c44-cb00-87a98f8432ff"
      },
      "execution_count": null,
      "outputs": [
        {
          "output_type": "stream",
          "name": "stdout",
          "text": [
            "Welcome to the Sum Calculator!\n",
            "Enter a positive integer: 20\n",
            "\n",
            "Sum sequence for 20:\n",
            "Sum from 1 to 20: 210\n",
            "Sum from 1 to 19: 190\n",
            "Sum from 1 to 18: 171\n",
            "Sum from 1 to 17: 153\n",
            "Sum from 1 to 16: 136\n",
            "Sum from 1 to 15: 120\n",
            "Sum from 1 to 14: 105\n",
            "Sum from 1 to 13: 91\n",
            "Sum from 1 to 12: 78\n",
            "Sum from 1 to 11: 66\n",
            "Sum from 1 to 10: 55\n",
            "Sum from 1 to 9: 45\n",
            "Sum from 1 to 8: 36\n",
            "Sum from 1 to 7: 28\n",
            "Sum from 1 to 6: 21\n",
            "Sum from 1 to 5: 15\n",
            "Sum from 1 to 4: 10\n",
            "Sum from 1 to 3: 6\n",
            "Sum from 1 to 2: 3\n",
            "Sum from 1 to 1: 1\n",
            "\n",
            "You can call the function again by using calculate_and_print_sums(n)\n"
          ]
        }
      ]
    },
    {
      "cell_type": "code",
      "source": [
        "calculate_and_print_sums (1)"
      ],
      "metadata": {
        "colab": {
          "base_uri": "https://localhost:8080/"
        },
        "id": "75uImW9Ha9Dr",
        "outputId": "2b1cc757-36db-4301-d449-ce0057dc209d"
      },
      "execution_count": null,
      "outputs": [
        {
          "output_type": "stream",
          "name": "stdout",
          "text": [
            "\n",
            "Sum sequence for 1:\n",
            "Sum from 1 to 1: 1\n"
          ]
        }
      ]
    },
    {
      "cell_type": "code",
      "source": [
        "def calculate_and_print_sums():\n",
        "    \"\"\"Ask for a number, then calculate and print the sum sequence from that number down to 1.\"\"\"\n",
        "    while True:\n",
        "        user_input = input(\"Enter a positive integer: \")\n",
        "        try:\n",
        "            n = int(user_input)\n",
        "            if n <= 0:\n",
        "                print(\"Please enter a positive integer.\")\n",
        "                continue\n",
        "\n",
        "            print(f\"\\nSum sequence for {n}:\")\n",
        "            for i in range(n, 0, -1):\n",
        "                result = sum(range(1, i + 1))\n",
        "                print(f\"Sum from 1 to {i}: {result}\")\n",
        "            break\n",
        "        except ValueError:\n",
        "            print(\"Invalid input. Please enter a valid positive integer.\")\n",
        "\n",
        "# Example usage\n",
        "if __name__ == \"__main__\":\n",
        "    print(\"Welcome to the Sum Calculator!\")\n",
        "    calculate_and_print_sums()\n",
        "    print(\"\\nYou can call the function again by using calculate_and_print_sums()\")"
      ],
      "metadata": {
        "colab": {
          "base_uri": "https://localhost:8080/"
        },
        "id": "P_ShwVYCbEXQ",
        "outputId": "afdc9253-898d-48b4-c709-88931446ab77"
      },
      "execution_count": null,
      "outputs": [
        {
          "output_type": "stream",
          "name": "stdout",
          "text": [
            "Welcome to the Sum Calculator!\n",
            "Enter a positive integer: 9\n",
            "\n",
            "Sum sequence for 9:\n",
            "Sum from 1 to 9: 45\n",
            "Sum from 1 to 8: 36\n",
            "Sum from 1 to 7: 28\n",
            "Sum from 1 to 6: 21\n",
            "Sum from 1 to 5: 15\n",
            "Sum from 1 to 4: 10\n",
            "Sum from 1 to 3: 6\n",
            "Sum from 1 to 2: 3\n",
            "Sum from 1 to 1: 1\n",
            "\n",
            "You can call the function again by using calculate_and_print_sums()\n"
          ]
        }
      ]
    },
    {
      "cell_type": "code",
      "source": [
        "calculate_and_print_sums()"
      ],
      "metadata": {
        "colab": {
          "base_uri": "https://localhost:8080/"
        },
        "id": "eLf2E6JMbrQ3",
        "outputId": "847a9a5e-2785-4317-c28d-507decc140c1"
      },
      "execution_count": null,
      "outputs": [
        {
          "output_type": "stream",
          "name": "stdout",
          "text": [
            "Enter a positive integer: 20\n",
            "\n",
            "Sum sequence for 20:\n",
            "Sum from 1 to 20: 210\n",
            "Sum from 1 to 19: 190\n",
            "Sum from 1 to 18: 171\n",
            "Sum from 1 to 17: 153\n",
            "Sum from 1 to 16: 136\n",
            "Sum from 1 to 15: 120\n",
            "Sum from 1 to 14: 105\n",
            "Sum from 1 to 13: 91\n",
            "Sum from 1 to 12: 78\n",
            "Sum from 1 to 11: 66\n",
            "Sum from 1 to 10: 55\n",
            "Sum from 1 to 9: 45\n",
            "Sum from 1 to 8: 36\n",
            "Sum from 1 to 7: 28\n",
            "Sum from 1 to 6: 21\n",
            "Sum from 1 to 5: 15\n",
            "Sum from 1 to 4: 10\n",
            "Sum from 1 to 3: 6\n",
            "Sum from 1 to 2: 3\n",
            "Sum from 1 to 1: 1\n"
          ]
        }
      ]
    },
    {
      "cell_type": "code",
      "source": [],
      "metadata": {
        "id": "nrcwCETLb2sV"
      },
      "execution_count": null,
      "outputs": []
    }
  ]
}