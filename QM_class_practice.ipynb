{
  "nbformat": 4,
  "nbformat_minor": 0,
  "metadata": {
    "colab": {
      "provenance": []
    },
    "kernelspec": {
      "name": "python3",
      "display_name": "Python 3"
    },
    "language_info": {
      "name": "python"
    }
  },
  "cells": [
    {
      "cell_type": "code",
      "execution_count": null,
      "metadata": {
        "id": "pYlzNRnAZgPP"
      },
      "outputs": [],
      "source": [
        "import matplotlib.pyplot as plt\n",
        "import numpy as np\n",
        "import seaborn as sns\n",
        "import numpy as np\n",
        "import scipy as stats"
      ]
    },
    {
      "cell_type": "code",
      "source": [
        "data = np.array ([59,61,42,85,74,61,55,37,90,61,72])\n",
        "print (data)"
      ],
      "metadata": {
        "colab": {
          "base_uri": "https://localhost:8080/"
        },
        "id": "CsNZBfylKelx",
        "outputId": "b3f52820-ae09-4eb5-a01c-6c3af3c36392"
      },
      "execution_count": null,
      "outputs": [
        {
          "output_type": "stream",
          "name": "stdout",
          "text": [
            "[59 61 42 85 74 61 55 37 90 61 72]\n"
          ]
        }
      ]
    },
    {
      "cell_type": "code",
      "source": [
        "type (data)"
      ],
      "metadata": {
        "colab": {
          "base_uri": "https://localhost:8080/"
        },
        "id": "OrLNHIajKs-k",
        "outputId": "bca3fd3e-84fb-45b1-ed9d-89665fd8889f"
      },
      "execution_count": null,
      "outputs": [
        {
          "output_type": "execute_result",
          "data": {
            "text/plain": [
              "numpy.ndarray"
            ]
          },
          "metadata": {},
          "execution_count": 5
        }
      ]
    },
    {
      "cell_type": "code",
      "source": [
        "# sample mean\n",
        "mean = np.mean(data)\n",
        "print(\"Mean= \",mean)"
      ],
      "metadata": {
        "colab": {
          "base_uri": "https://localhost:8080/"
        },
        "id": "pmdTH3HOaOb-",
        "outputId": "cc914a84-ac08-4b22-99c6-672c3590a417"
      },
      "execution_count": null,
      "outputs": [
        {
          "output_type": "stream",
          "name": "stdout",
          "text": [
            "Mean=  63.36363636363637\n"
          ]
        }
      ]
    },
    {
      "cell_type": "code",
      "source": [
        "#Meadian\n",
        "median = np.median(data)\n",
        "print (\"Meadian= \",median)"
      ],
      "metadata": {
        "colab": {
          "base_uri": "https://localhost:8080/"
        },
        "id": "2vtWiWVp-Q6W",
        "outputId": "5439a054-6e2d-43f1-860e-cf28e03e9e9e"
      },
      "execution_count": null,
      "outputs": [
        {
          "output_type": "stream",
          "name": "stdout",
          "text": [
            "Meadian=  61.0\n"
          ]
        }
      ]
    },
    {
      "cell_type": "code",
      "source": [
        "#Mode\n",
        "import statistics as stats1\n",
        "mode=stats1.mode(data)\n",
        "print(\"Mode= \", mode)"
      ],
      "metadata": {
        "colab": {
          "base_uri": "https://localhost:8080/"
        },
        "id": "j1RbMTUiEedJ",
        "outputId": "5cc91c20-73ab-47f2-9080-3267f771a1bd"
      },
      "execution_count": null,
      "outputs": [
        {
          "output_type": "stream",
          "name": "stdout",
          "text": [
            "Mode=  61\n"
          ]
        }
      ]
    },
    {
      "cell_type": "code",
      "source": [
        "#Variance\n",
        "variance=np.var(data)\n",
        "print(\"Variance= \",variance)"
      ],
      "metadata": {
        "colab": {
          "base_uri": "https://localhost:8080/"
        },
        "id": "jLjAkL-I-lZS",
        "outputId": "599392f9-74fc-420d-ff7b-606ff9b00e5a"
      },
      "execution_count": null,
      "outputs": [
        {
          "output_type": "stream",
          "name": "stdout",
          "text": [
            "Variance=  238.41322314049586\n"
          ]
        }
      ]
    },
    {
      "cell_type": "code",
      "source": [
        "#Standard Deviation\n",
        "std_dev=np.std(data, ddof=1) #ddof=1 for sample standard deviation\n",
        "print(\"Standard Deviation= \",std_dev)"
      ],
      "metadata": {
        "colab": {
          "base_uri": "https://localhost:8080/"
        },
        "id": "DOZ_3jmt-xk0",
        "outputId": "ad4a5ba6-c4b8-4b7a-a0e4-aa5c17d7d1ea"
      },
      "execution_count": null,
      "outputs": [
        {
          "output_type": "stream",
          "name": "stdout",
          "text": [
            "Standard Deviation=  16.19427508271196\n"
          ]
        }
      ]
    },
    {
      "cell_type": "code",
      "source": [
        "#Coefficient of Variation\n",
        "coef_var=(std_dev/mean)*100\n",
        "print(\"Coefficient of Variation= \", coef_var, \"%\")\n"
      ],
      "metadata": {
        "colab": {
          "base_uri": "https://localhost:8080/"
        },
        "id": "iN4tuEVG_fp6",
        "outputId": "d7e9478a-11a3-42bf-f0a2-8121df4ff3c8"
      },
      "execution_count": null,
      "outputs": [
        {
          "output_type": "stream",
          "name": "stdout",
          "text": [
            "Coefficient of Variation=  25.55767947056407 %\n"
          ]
        }
      ]
    },
    {
      "cell_type": "code",
      "source": [
        "#Range, Max, and Min\n",
        "maximum = np.max(data)\n",
        "minimum = np.min(data)\n",
        "range = maximum - minimum\n",
        "print(\"Range= \", range)\n",
        "print(\"Maximum= \", maximum)\n",
        "print(\"Minimum= \", minimum)\n"
      ],
      "metadata": {
        "colab": {
          "base_uri": "https://localhost:8080/"
        },
        "id": "--KdDVa2ArZi",
        "outputId": "ff9a47bc-3c1d-4188-a99d-c1851fe80cb7"
      },
      "execution_count": null,
      "outputs": [
        {
          "output_type": "stream",
          "name": "stdout",
          "text": [
            "Range=  53\n",
            "Maximum=  90\n",
            "Minimum=  37\n"
          ]
        }
      ]
    },
    {
      "cell_type": "code",
      "source": [
        "#First, Second(Median), and third Quantile:\n",
        "q1=np.percentile(data,25)\n",
        "q2=np.percentile(data,50)\n",
        "q3=np.percentile(data,75)\n",
        "percentile=np.percentile(data,[25,50,75])\n",
        "print(\"First Quantile= \", q1 )\n",
        "print(\"Second Quantile= \", q2 )\n",
        "print(\"Third Quantile= \", q3 )\n",
        "print (\"Interquartile= \" ,q3-q1)\n",
        "print(\"Percentiles= \", percentile)"
      ],
      "metadata": {
        "colab": {
          "base_uri": "https://localhost:8080/"
        },
        "id": "gUFuESl8BE9T",
        "outputId": "cef10dbb-6e36-40d4-9060-11ebbf7afdf7"
      },
      "execution_count": null,
      "outputs": [
        {
          "output_type": "stream",
          "name": "stdout",
          "text": [
            "First Quantile=  57.0\n",
            "Second Quantile=  61.0\n",
            "Third Quantile=  73.0\n",
            "Interquartile=  16.0\n",
            "Percentiles=  [57. 61. 73.]\n"
          ]
        }
      ]
    },
    {
      "cell_type": "code",
      "source": [
        "#percentiles\n",
        "percentile90=np.percentile(data, 90)\n",
        "print(\"90% Percentiles= \", percentile90)"
      ],
      "metadata": {
        "colab": {
          "base_uri": "https://localhost:8080/"
        },
        "id": "7e7-aOQgGkni",
        "outputId": "dd2b2d30-45fd-4571-dbd1-202da7e2ffc7"
      },
      "execution_count": null,
      "outputs": [
        {
          "output_type": "stream",
          "name": "stdout",
          "text": [
            "90% Percentiles=  85.0\n"
          ]
        }
      ]
    },
    {
      "cell_type": "code",
      "source": [
        "# Skewness\n",
        "from scipy.stats import skew\n",
        "skewness = skew(data)\n",
        "print(\"Skewness= \", skewness)"
      ],
      "metadata": {
        "colab": {
          "base_uri": "https://localhost:8080/"
        },
        "id": "z8DF3RAqB3_E",
        "outputId": "8d537157-b9c8-4dfa-a391-5bf90f14149c"
      },
      "execution_count": null,
      "outputs": [
        {
          "output_type": "stream",
          "name": "stdout",
          "text": [
            "Skewness=  0.05167492391061157\n"
          ]
        }
      ]
    },
    {
      "cell_type": "code",
      "source": [
        "#Kurtosis\n",
        "from scipy.stats import kurtosis\n",
        "kurtosis = kurtosis(data)\n",
        "print(\"Kurtosis= \", kurtosis)"
      ],
      "metadata": {
        "colab": {
          "base_uri": "https://localhost:8080/"
        },
        "id": "IqfmZbU6C23a",
        "outputId": "65ae4305-eec5-4178-e66f-799859645b76"
      },
      "execution_count": null,
      "outputs": [
        {
          "output_type": "stream",
          "name": "stdout",
          "text": [
            "Kurtosis=  -0.700707601746211\n"
          ]
        }
      ]
    },
    {
      "cell_type": "code",
      "source": [
        "# plot the data\n",
        "data = np.array ([59,61,42,85,74,61,55,37,90,61,72])\n",
        "\n",
        "#creat a distribution plot using seaborn\n",
        "sns.histplot  (data, kde=True)\n",
        "\n",
        "#add title and labels\n",
        "plt.title('students grade distribution')\n",
        "plt.xlabel('grade')\n",
        "plt.ylabel('frequency')\n",
        "\n",
        "#show plot\n",
        "plt.show()"
      ],
      "metadata": {
        "colab": {
          "base_uri": "https://localhost:8080/",
          "height": 472
        },
        "id": "itAULqfIZp2h",
        "outputId": "c7249b56-ec44-4c7b-ec56-e82f09df44d1"
      },
      "execution_count": null,
      "outputs": [
        {
          "output_type": "display_data",
          "data": {
            "text/plain": [
              "<Figure size 640x480 with 1 Axes>"
            ],
            "image/png": "[encoded data removed]"
          },
          "metadata": {}
        }
      ]
    },
    {
      "cell_type": "code",
      "source": [
        "#Z-Score\n",
        "from scipy.stats import zscore\n",
        "z_scores=zscore(data)\n",
        "\n",
        "print(\"z-score= \", z_scores)"
      ],
      "metadata": {
        "colab": {
          "base_uri": "https://localhost:8080/"
        },
        "id": "eY72kP2VF-5t",
        "outputId": "2bd896cc-3691-486e-ebd5-5c78d90a927c"
      },
      "execution_count": null,
      "outputs": [
        {
          "output_type": "stream",
          "name": "stdout",
          "text": [
            "z-score=  [-0.2826073  -0.15307896 -1.38359826  1.40126122  0.6888553  -0.15307896\n",
            " -0.541664   -1.70741913  1.72508209 -0.15307896  0.55932696]\n"
          ]
        }
      ]
    },
    {
      "cell_type": "code",
      "source": [],
      "metadata": {
        "id": "nMDKI_A2HPXZ"
      },
      "execution_count": null,
      "outputs": []
    }
  ]
}